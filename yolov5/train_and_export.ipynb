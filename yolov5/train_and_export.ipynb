{
 "cells": [
  {
   "cell_type": "code",
   "execution_count": null,
   "metadata": {},
   "outputs": [],
   "source": [
    "!git clone -b v6.0 https://github.com/ultralytics/yolov5.git"
   ]
  },
  {
   "cell_type": "code",
   "execution_count": null,
   "metadata": {},
   "outputs": [],
   "source": [
    "# 上传data.zip (yolo格式) 到yolov5并目录下\n",
    "!unzip -q data.zip -d yolov5/data_up\n",
    "!rm -rf yolov5/data/images\n",
    "!mv yolov5/data_up/images yolov5/data/\n",
    "!mv yolov5/data_up/labels yolov5/data/\n",
    "!mv yolov5/data_up/train.txt yolov5/data/\n",
    "!mv yolov5/data_up/test.txt yolov5/data/\n",
    "!mv yolov5/data_up/val.txt yolov5/data/"
   ]
  },
  {
   "cell_type": "markdown",
   "metadata": {},
   "source": [
    "#### 在yolov5目录下创建 model.yml 和 dataset.yml\n",
    "- model.yml从yolov5/models/下面复制\n",
    "- dataset.yml\n",
    "```python\n",
    "train: data/train.txt  # 数据集里的训练集列表文件路径\n",
    "val: data/val.txt  # 数据集里的验证集列表文件路径\n",
    "nc: 2 #类型数量\n",
    "names: [ 'blue', 'red' ]  #类型名\n",
    "```\n",
    "\n",
    "#### 记得在yolov5/models/common.py最下面添加如下内容\n",
    "- 不然会报错:AttributeError: Cant get attribute SPPF on module models.common\n",
    "```python\n",
    "import warnings\n",
    "class SPPF(nn.Module):\n",
    "    # Spatial Pyramid Pooling - Fast (SPPF) layer for YOLOv5 by Glenn Jocher\n",
    "    def __init__(self, c1, c2, k=5):  # equivalent to SPP(k=(5, 9, 13))\n",
    "        super().__init__()\n",
    "        c_ = c1 // 2  # hidden channels\n",
    "        self.cv1 = Conv(c1, c_, 1, 1)\n",
    "        self.cv2 = Conv(c_ * 4, c2, 1, 1)\n",
    "        self.m = nn.MaxPool2d(kernel_size=k, stride=1, padding=k // 2)\n",
    "    def forward(self, x):\n",
    "        x = self.cv1(x)\n",
    "        with warnings.catch_warnings():\n",
    "            warnings.simplefilter('ignore')  # suppress torch 1.9.0 max_pool2d() warning\n",
    "            y1 = self.m(x)\n",
    "            y2 = self.m(y1)\n",
    "            return self.cv2(torch.cat([x, y1, y2, self.m(y2)], 1))\n",
    "\n",
    "\n",
    "```"
   ]
  },
  {
   "cell_type": "code",
   "execution_count": null,
   "metadata": {},
   "outputs": [],
   "source": [
    "import os\n",
    "os.chdir('yolov5')\n",
    "\n",
    "#!pip install -r requirements.txt\n",
    "#!wget https://github.com/ultralytics/yolov5/releases/download/v6.0/yolov5s.pt\n",
    "!python train.py --data dataset.yml --cfg model.yml --weights yolov5s.pt --device 0\n",
    "\n",
    "os.chdir('../')"
   ]
  },
  {
   "cell_type": "code",
   "execution_count": null,
   "metadata": {},
   "outputs": [],
   "source": [
    "# 查看识别效果\n",
    "import os\n",
    "os.chdir('yolov5')\n",
    "\n",
    "!python detect.py --source data/images/0.jpg --weights runs/train/exp/weights/best.pt --view-img\n",
    "\n",
    "os.chdir('../')"
   ]
  },
  {
   "cell_type": "code",
   "execution_count": null,
   "metadata": {},
   "outputs": [],
   "source": [
    "!git clone https://github.com/wang-xinyu/tensorrtx.git\n",
    "\n",
    "!mv tensorrtx/yolov5/gen_wts.py yolov5/"
   ]
  },
  {
   "cell_type": "code",
   "execution_count": null,
   "metadata": {},
   "outputs": [],
   "source": [
    "# 转化生成.wts文件\n",
    "import os\n",
    "os.chdir('yolov5')\n",
    "\n",
    "!python gen_wts.py --weight=runs/train/exp4/weights/best.pt --output=./\n",
    "\n",
    "os.chdir('../')"
   ]
  },
  {
   "cell_type": "code",
   "execution_count": null,
   "metadata": {},
   "outputs": [],
   "source": [
    "!pip install torchsummaryX"
   ]
  },
  {
   "cell_type": "code",
   "execution_count": null,
   "metadata": {},
   "outputs": [],
   "source": [
    "#debug部分\n",
    "#!mv best.pt yolov5/\n",
    "import os\n",
    "#os.chdir('yolov5')\n",
    "\n",
    "import torch\n",
    "from torchsummaryX import summary\n",
    "\n",
    "from models.experimental import attempt_load\n",
    "\n",
    "model1_path = r'best.pt'\n",
    "#model2_path = r'D:\\Install\\yolov5l.pt'\n",
    "\n",
    "model = attempt_load(model1_path, map_location=torch.device('cpu'))\n",
    "# model.to('cuda').eval()\n",
    "# print(model)\n",
    "summary(model, torch.rand((1, 3, 640, 640)))\n",
    "\n",
    "os.chdir('../')"
   ]
  }
 ],
 "metadata": {
  "language_info": {
   "name": "python"
  },
  "orig_nbformat": 4
 },
 "nbformat": 4,
 "nbformat_minor": 2
}
